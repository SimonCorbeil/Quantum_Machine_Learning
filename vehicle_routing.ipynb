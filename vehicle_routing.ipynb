{
 "cells": [
  {
   "cell_type": "markdown",
   "metadata": {},
   "source": [
    "<img src=\"../../../../images/qiskit_header.png\" alt=\"Note: In order for images to show up in this jupyter notebook you need to select File => Trusted Notebook\" align=\"middle\">"
   ]
  },
  {
   "cell_type": "markdown",
   "metadata": {
    "collapsed": true
   },
   "source": [
    "# _*Qiskit Aqua: Vehicle Routing*_\n",
    "\n",
    "The latest version of this notebook is available on https://github.com/qiskit/qiskit-tutorials.\n",
    "\n",
    "***\n",
    "### Contributors\n",
    "Andrea Simonetto<sup>[1]</sup>, Jakub Marecek<sup>[1]</sup>, Martin Mevissen<sup>[1]</sup>\n",
    "\n",
    "### Affiliation\n",
    "- <sup>[1]</sup>IBMQ\n",
    "\n",
    "## The Introduction\n",
    "\n",
    "Logistics is a major industry, with some estimates valuing it at USD 8183 billion globally in 2015. Most service providers operate a number of vehicles (e.g., trucks and container ships), a number of depots, where the vehicles are based overnight, and serve a number of client locations with each vehicle during each day. There are many optimisation and control problems that consider these parameters. Computationally, the key challenge is how to design routes from depots to a number of client locations and back to the depot, so as to minimise vehicle-miles travelled, time spent, or similar objective functions. In this notebook we formalise an idealised version of the problem and showcase its solution using the quantum approximate optimization approach of Farhi, Goldstone, and Gutman (2014). \n",
    "\n",
    "The overall workflow we demonstrate comprises:\n",
    "\n",
    "1. establish the client locations. Normally, these would be available ahead of the day of deliveries from a database. In our use case, we generate these randomly.\n",
    "\n",
    "3. compute the pair-wise distances, travel times, or similar. In our case, we consider the Euclidean distance, \"as the crow flies\", which is perhaps the simplest possible.\n",
    "\n",
    "4. compute the actual routes. This step is run twice, actually. First, we obtain a reference value by a run of a classical solver (IBM CPLEX) on the classical computer. Second, we run an alternative, hybrid algorithm partly on the quantum computer.\n",
    "\n",
    "5. visualisation of the results. In our case, this is again a simplistic plot.\n",
    "\n",
    "In the following, we first explain the model, before we proceed with the installation of the pre-requisites and the data loading.\n",
    "\n",
    "## The Model \n",
    "\n",
    "Mathematically speaking, the vehicle routing problem (VRP) is a combinatorial problem, wherein the best routes from a depot to a number of clients and back to the depot are sought, given a number of available vehicles. There are a number of formulations possible, extending a number of formulations of the travelling salesman problem [Applegate et al, 2006]. Here, we present a formulation known as MTZ [Miller, Tucker, Zemlin, 1960]. \n",
    "\n",
    "Let $n$ be the number of clients (indexed as $1,\\dots,n$), and $K$ be the number of available vehicles. Let $x_{ij} = \\{0,1\\}$ be the binary decision variable which, if it is $1$, activates the segment from node $i$ to node $j$. The node index runs from $0$ to $n$, where $0$ is (by convention) the depot. There are twice as many distinct decision variables as edges. For example, in a fully connected graph, there are $n(n+1)$ binary decision variables. \n",
    "\n",
    "If two nodes $i$ and $j$ have a link from $i$ to $j$, we write $i \\sim j$. We also denote with $\\delta(i)^+$ the set of nodes to which $i$ has a link, i.e., $j \\in \\delta(i)^+$ if and only if $i \\sim j$. Similarly, we denote with \n",
    "$\\delta(i)^-$ the set of nodes which are connected to $i$, in the sense that $j \\in \\delta(i)^-$ if and only if $j \\sim i$. \n",
    "\n",
    "In addition, we consider continuous variables, for all nodes $i = 1,\\dots, n$, denoted $u_i$. These variables are needed in the MTZ formulation of the problem to eliminate sub-tours between clients. \n",
    "\n",
    "The VRP can be formulated as:\n",
    "\n",
    "$$\n",
    "(VRP) \\quad  f = \\min_{\\{x_{ij}\\}_{i\\sim j}\\in \\{0,1\\}, \\{u_i\\}_{i=1,\\dots,n}\\in \\mathbb{R}} \\quad \\sum_{i \\sim j} w_{ij} x_{ij}\n",
    "$$\n",
    "\n",
    "subject to the node-visiting constraint:\n",
    "\n",
    "$$\n",
    "\\sum_{j \\in \\delta(i)^+} x_{ij} = 1, \\,\\sum_{j \\in \\delta(i)^-} x_{ji} = 1,\\, \\forall i \\in \\{1,\\dots,n\\},\n",
    "$$\n",
    "\n",
    "the depot-visiting constraints:\n",
    "\n",
    "$$\n",
    "\\sum_{i \\in \\delta(0)^+} x_{0i} = K, \\, \\sum_{j \\in \\delta(0)^+} x_{j0} = K,\n",
    "$$\n",
    "\n",
    "and the sub-tour elimination constraints:\n",
    "\n",
    "$$\n",
    "u_i - u_j + Q x_{ij} \\leq Q-q_j, \\, \\forall i \\sim j, \\,i ,j \\neq 0, \\quad q_i \\leq u_i \\leq Q,\\, \\forall i, i \\neq 0.\n",
    "$$\n",
    "\n",
    "In particular, \n",
    "- The cost function is linear in the cost functions and weighs the different arches based on a positive weight $w_{ij}>0$ (typically the distance between node $i$ and node $j$);\n",
    "- The first set of constraints enforce that from and to every client, only one link is allowed;\n",
    "- The second set of constraints enforce that from and to the depot, exactly  $K$ links are allowed;\n",
    "- The third set of constraints enforce the sub-tour elimination constraints and are bounds on $u_i$, with $Q>q_j>0$, and $Q,q_i \\in \\mathbb{R}$.\n",
    "\n",
    "\n",
    "## Classical solution\n",
    "\n",
    "We can solve the VRP classically, e.g., by using CPLEX. CPLEX uses a branch-and-bound-and-cut method to find an approximate solution of the VRP, which, in this formulation, is a mixed-integer linear program (MILP). For the sake of notation, we pack the decision variables in one vector as\n",
    "\n",
    "$$\n",
    "{\\bf z} = [x_{01},x_{02},\\ldots,x_{10}, x_{12},\\ldots,x_{n(n-1)}]^T,\n",
    "$$\n",
    "\n",
    "wherein ${\\bf z} \\in \\{0,1\\}^N$, with $N = n (n+1)$. So the dimension of the problem scales quadratically with the number of nodes. Let us denote the optimal solution by ${\\bf z}^*$, and the associated optimal cost $f^*$. \n",
    "\n",
    "\n",
    "## Quantum solution\n",
    "\n",
    "Here, we demonstrate an approach that combines classical and quantum computing steps, following the quantum approximate optimization approach of Farhi, Goldstone, and Gutman (2014). In particular, we use the variational quantum eigensolver (VQE). We stress that given the use of limited depth of the quantum circuits employed (variational forms), it is hard to discuss the speed-up of the algorithm, as the solution obtained is heuristic in nature. At the same time, due to the nature and importance of the target problems, it is worth investigating heuristic approaches, which may be worthwhile for some problem classes. \n",
    "\n",
    "Following [5], the algorithm can be summarised as follows:\n",
    "- Preparation steps: \n",
    "\t- Transform the combinatorial problem into a binary polynomial optimization problem with equality constraints only;\n",
    "\t- Map the resulting problem into an Ising Hamiltonian ($H$) for variables ${\\bf z}$ and basis $Z$, via penalty methods if necessary;\n",
    "\t- Choose the depth of the quantum circuit $m$. Note that the depth can be modified adaptively.\n",
    "\t- Choose a set of controls $\\theta$ and make a trial function $\\big|\\psi(\\boldsymbol\\theta)\\rangle$, built using a quantum circuit made of C-Phase gates and single-qubit Y rotations, parameterized by the components of $\\boldsymbol\\theta$.\n",
    "\n",
    "\n",
    "- Algorithm steps: \n",
    "\t- Evaluate $C(\\boldsymbol\\theta) = \\langle\\psi(\\boldsymbol\\theta)\\big|H\\big|\\psi(\\boldsymbol\\theta)\\rangle$ by sampling the outcome of the circuit in the Z-basis and adding the expectation values of the individual Ising terms together. In general, different control points around $\\boldsymbol\\theta$ have to be estimated, depending on the classical optimizer chosen.\n",
    "\t- Use a classical optimizer to choose a new set of controls.\n",
    "\t- Continue until $C(\\boldsymbol\\theta)$ reaches a minimum, close enough to the solution $\\boldsymbol\\theta^*$.\n",
    "\t- Use the last $\\boldsymbol\\theta$ to generate a final set of samples from the distribution $\\Big|\\langle z_i\\big|\\psi(\\boldsymbol\\theta)\\rangle\\Big|^2\\;\\forall i$ to obtain the answer.\n",
    "\n",
    "\n",
    "There are many parameters throughout, notably the choice of the trial wavefunction. Below, we consider:\n",
    "\n",
    "$$\n",
    "\\big|\\psi(\\theta)\\rangle = [U_\\mathrm{single}(\\boldsymbol\\theta) U_\\mathrm{entangler}]^m \\big|+\\rangle\n",
    "$$\n",
    "\n",
    "where $U_\\mathrm{entangler}$ is a collection of C-Phase gates (fully-entangling gates), and $U_\\mathrm{single}(\\theta) = \\prod_{i=1}^N Y(\\theta_{i})$, where $N$ is the number of qubits and $m$ is the depth of the quantum circuit. \n",
    "\n",
    "\n",
    "### Construct the Ising Hamiltonian\n",
    "\n",
    "From $VRP$ one can construct a binary polynomial optimization with equality constraints only by considering cases in which $K=n-1$. In these cases the sub-tour elimination constraints are not necessary and the problem is only on the variable ${\\bf z}$. In particular, we can write an augmented Lagrangian as\n",
    "\n",
    "$$\n",
    "(IH) \\quad H = \\sum_{i \\sim j} w_{ij} x_{ij}  + A \\sum_{i \\in \\{1,\\dots,n\\}} \\Big(\\sum_{j \\in \\delta(i)^+} x_{ij} - 1\\Big)^2 + A \\sum_{i \\in \\{1,\\dots,n\\}}\\Big(\\sum_{j \\in \\delta(i)^-} x_{ji} - 1\\Big)^2 +A \\Big(\\sum_{i \\in \\delta(0)^+} x_{0i} - K\\Big)^2 + A\\Big(\\sum_{j \\in \\delta(0)^+} x_{j0} - K\\Big)^2\n",
    "$$\n",
    "\n",
    "where $A$ is a big enough parameter. \n",
    "\n",
    "### From Hamiltonian to QP formulation \n",
    "\n",
    "In the vector ${\\bf z}$, and for a complete graph ($\\delta(i)^+ = \\delta(i)^- = \\{0,1,\\dots,i-1,i+1,\\dots,n\\}$), $H$ can be written as follows.\n",
    "\n",
    "$$\n",
    "\\min_{{\\bf z}\\in \\{0,1\\}^{n(n+1)}} {\\bf w}^T {\\bf z}  + A \\sum_{i \\in \\{1,\\dots,n\\}} \\Big({\\bf e}_i \\otimes {\\bf 1}_n^T {\\bf z} - 1\\Big)^2 + A \\sum_{i \\in \\{1,\\dots,n\\}}\\Big({\\bf v}_i^T {\\bf z} - 1\\Big)^2 + A \\Big(({\\bf e}_0 \\otimes {\\bf 1}_n)^T{\\bf z} - K\\Big)^2 + A\\Big({\\bf v}_0^T{\\bf z} - K\\Big)^2.\n",
    "$$\n",
    "\n",
    "That is:\n",
    "\n",
    "$$\n",
    "\\min_{\\bf z\\in \\{0,1\\}^{n(n+1)}} \\bf z^T {\\bf Q} \\bf z + {\\bf g}^T \\bf z + c,\n",
    "$$\n",
    "\n",
    "Where: first term:\n",
    "\n",
    "$$\n",
    "{\\bf Q} = A \\sum_{i \\in \\{0,1,\\dots,n\\}}  \\Big[({\\bf e}_i \\otimes {\\bf 1}_n)({\\bf e}_i \\otimes {\\bf 1}_n)^T + {\\bf v}_i{\\bf v}_i^T \\Big] \n",
    "$$\n",
    "\n",
    "Second term:\n",
    "\n",
    "$$\n",
    "{\\bf g} = {\\bf w} -2 A \\sum_{i \\in \\{1,\\dots,n\\}} \\Big[({\\bf e}_i \\otimes {\\bf 1}_n) + {\\bf v}_i \\Big] -2 A K \\Big[({\\bf e}_0 \\otimes {\\bf 1}_n) + {\\bf v}_0 \\Big]\n",
    "$$\n",
    "\n",
    "Third term:\n",
    "\n",
    "$$\n",
    "c = 2An +2AK^2.\n",
    "$$\n",
    "\n",
    "The QP formulation of the Ising Hamiltonian is ready for the use of VQE. \n",
    "\n",
    "\n",
    "\n",
    "## References\n",
    "\n",
    "[1] E. Farhi, J. Goldstone, S. Gutmann e-print arXiv 1411.4028, 2014\n",
    "\n",
    "[2] https://github.com/Qiskit/qiskit-tutorial/blob/master/qiskit/aqua/optimization/maxcut_and_tsp.ipynb\n",
    "\n",
    "[3] C. E. Miller, E. W. Tucker, and R. A. Zemlin (1960). \"Integer Programming Formulations and Travelling Salesman Problems\". J. ACM. 7: 326–329. doi:10.1145/321043.321046.\n",
    "\n",
    "[4] D. L. Applegate, R. M. Bixby, V. Chvátal, and W. J. Cook (2006). The Traveling Salesman Problem. Princeton University Press, ISBN 978-0-691-12993-8."
   ]
  },
  {
   "cell_type": "markdown",
   "metadata": {},
   "source": [
    "## Initialization\n",
    "\n",
    "First of all we load all the packages that we need: \n",
    "  - Python 3.6 or greater is required;\n",
    "  - CPLEX 12.8 or greater is required for the classical computations;\n",
    "  - Latest Qiskit is required for the quantum computations."
   ]
  },
  {
   "cell_type": "code",
   "execution_count": 2,
   "metadata": {},
   "outputs": [
    {
     "ename": "SyntaxError",
     "evalue": "invalid syntax (<ipython-input-2-750135eb1928>, line 1)",
     "output_type": "error",
     "traceback": [
      "\u001b[0;36m  File \u001b[0;32m\"<ipython-input-2-750135eb1928>\"\u001b[0;36m, line \u001b[0;32m1\u001b[0m\n\u001b[0;31m    pip3 install cplex\u001b[0m\n\u001b[0m               ^\u001b[0m\n\u001b[0;31mSyntaxError\u001b[0m\u001b[0;31m:\u001b[0m invalid syntax\n"
     ]
    }
   ],
   "source": [
    "!pip install cplex\n",
    "!pip install qiskit==0.12.0"
   ]
  },
  {
   "cell_type": "code",
   "execution_count": 3,
   "metadata": {},
   "outputs": [],
   "source": [
    "# Load the packages that are required\n",
    "import numpy as np\n",
    "import operator\n",
    "import matplotlib.pyplot as plt\n",
    "\n",
    "import sys\n",
    "if sys.version_info < (3, 6):\n",
    "    raise Exception('Please use Python version 3.6 or greater.')\n",
    "\n",
    "try:\n",
    "    import cplex\n",
    "    from cplex.exceptions import CplexError\n",
    "except: \n",
    "    print(\"Warning: Cplex not found.\")\n",
    "import math\n",
    "\n",
    "# Qiskit packages\n",
    "from qiskit.quantum_info import Pauli\n",
    "from qiskit.aqua.input import EnergyInput\n",
    "from qiskit.aqua import run_algorithm\n",
    "from qiskit.aqua.operators import WeightedPauliOperator\n",
    "\n",
    "# setup aqua logging\n",
    "import logging\n",
    "from qiskit.aqua._logging import set_logging_config, build_logging_config\n",
    "#set_logging_config(build_logging_config(logging.DEBUG))  # choose INFO, DEBUG to see the log"
   ]
  },
  {
   "cell_type": "markdown",
   "metadata": {},
   "source": [
    "We then initialize the variables"
   ]
  },
  {
   "cell_type": "code",
   "execution_count": 4,
   "metadata": {},
   "outputs": [],
   "source": [
    "# Initialize the problem by defining the parameters\n",
    "n = 3  # number of nodes + depot (n+1)\n",
    "K = 2  # number of vehicles"
   ]
  },
  {
   "cell_type": "markdown",
   "metadata": {},
   "source": [
    "We define an initializer class that randomly places the nodes in a 2-D plane and computes the distance between them. "
   ]
  },
  {
   "cell_type": "code",
   "execution_count": 5,
   "metadata": {},
   "outputs": [],
   "source": [
    "# Get the data\n",
    "class Initializer():\n",
    "\n",
    "    def __init__(self, n):\n",
    "        self.n = n\n",
    "\n",
    "    def generate_instance(self):\n",
    "\n",
    "        n = self.n\n",
    "\n",
    "        # np.random.seed(33)\n",
    "        np.random.seed(1543)\n",
    "\n",
    "        xc = (np.random.rand(n) - 0.5) * 10\n",
    "        yc = (np.random.rand(n) - 0.5) * 10\n",
    "\n",
    "        instance = np.zeros([n, n])\n",
    "        for ii in range(0, n):\n",
    "            for jj in range(ii + 1, n):\n",
    "                instance[ii, jj] = (xc[ii] - xc[jj]) ** 2 + (yc[ii] - yc[jj]) ** 2\n",
    "                instance[jj, ii] = instance[ii, jj]\n",
    "\n",
    "        return xc, yc, instance"
   ]
  },
  {
   "cell_type": "code",
   "execution_count": 6,
   "metadata": {},
   "outputs": [],
   "source": [
    "# Initialize the problem by randomly generating the instance\n",
    "initializer = Initializer(n)\n",
    "xc,yc,instance = initializer.generate_instance()"
   ]
  },
  {
   "cell_type": "markdown",
   "metadata": {},
   "source": [
    "## Classical solution using IBM ILOG CPLEX\n",
    "\n",
    "For a classical solution, we use IBM ILOG CPLEX. CPLEX is able to find the exact solution of this problem. We first define a ClassicalOptimizer class that encodes the problem in a way that CPLEX can solve, and then instantiate the class and solve it. \n"
   ]
  },
  {
   "cell_type": "code",
   "execution_count": 7,
   "metadata": {},
   "outputs": [],
   "source": [
    "class ClassicalOptimizer:\n",
    "\n",
    "    def __init__(self, instance,n,K):\n",
    "\n",
    "        self.instance = instance\n",
    "        self.n = n  # number of nodes\n",
    "        self.K = K  # number of vehicles\n",
    "\n",
    "\n",
    "    def compute_allowed_combinations(self):\n",
    "        f = math.factorial\n",
    "        return f(self.n) / f(self.K) / f(self.n-self.K)\n",
    "\n",
    "\n",
    "    def cplex_solution(self):\n",
    "\n",
    "        # refactoring\n",
    "        instance = self.instance\n",
    "        n = self.n\n",
    "        K = self.K\n",
    "\n",
    "        my_obj = list(instance.reshape(1, n**2)[0])+[0. for x in range(0,n-1)]\n",
    "        my_ub = [1 for x in range(0,n**2+n-1)]\n",
    "        my_lb = [0 for x in range(0,n**2)] + [0.1 for x in range(0,n-1)]\n",
    "        my_ctype = \"\".join(['I' for x in range(0,n**2)]) + \"\".join(['C' for x in range(0,n-1)])\n",
    "\n",
    "        my_rhs = 2*([K] + [1 for x in range(0,n-1)]) + [1-0.1 for x in range(0,(n-1)**2-(n-1))] + [0 for x in range(0,n)]\n",
    "        my_sense = \"\".join(['E' for x in range(0,2*n)]) + \"\".join(['L' for x in range(0,(n-1)**2-(n-1))])+\"\".join(['E' for x in range(0,n)])\n",
    "\n",
    "        try:\n",
    "            my_prob = cplex.Cplex()\n",
    "            self.populatebyrow(my_prob,my_obj,my_ub,my_lb,my_ctype,my_sense,my_rhs)\n",
    "\n",
    "            my_prob.solve()\n",
    "\n",
    "        except CplexError as exc:\n",
    "            print(exc)\n",
    "            return\n",
    "\n",
    "        x = my_prob.solution.get_values()\n",
    "        x = np.array(x)\n",
    "        cost = my_prob.solution.get_objective_value()\n",
    "\n",
    "        return x,cost\n",
    "    \n",
    "\n",
    "    def populatebyrow(self,prob,my_obj,my_ub,my_lb,my_ctype,my_sense,my_rhs):\n",
    "\n",
    "        n = self.n\n",
    "    \n",
    "        prob.objective.set_sense(prob.objective.sense.minimize)\n",
    "        prob.variables.add(obj = my_obj, lb = my_lb, ub = my_ub, types = my_ctype)\n",
    "    \n",
    "        prob.set_log_stream(None)\n",
    "        prob.set_error_stream(None)\n",
    "        prob.set_warning_stream(None)\n",
    "        prob.set_results_stream(None)\n",
    "\n",
    "        rows = []\n",
    "        for ii in range(0,n):\n",
    "            col = [x for x in range(0+n*ii,n+n*ii)]\n",
    "            coef = [1 for x in range(0,n)]\n",
    "            rows.append([col, coef])\n",
    "\n",
    "        for ii in range(0,n):\n",
    "            col = [x for x in range(0+ii,n**2,n)]\n",
    "            coef = [1 for x in range(0,n)]\n",
    "\n",
    "            rows.append([col, coef])\n",
    "\n",
    "        # Sub-tour elimination constraints:\n",
    "        for ii in range(0, n):\n",
    "            for jj in range(0,n):\n",
    "                if (ii != jj)and(ii*jj>0):\n",
    "\n",
    "                    col = [ii+(jj*n), n**2+ii-1, n**2+jj-1]\n",
    "                    coef = [1, 1, -1]\n",
    "\n",
    "                    rows.append([col, coef])\n",
    "\n",
    "        for ii in range(0,n):\n",
    "            col = [(ii)*(n+1)]\n",
    "            coef = [1]\n",
    "            rows.append([col, coef])\n",
    "\n",
    "        prob.linear_constraints.add(lin_expr=rows, senses=my_sense, rhs=my_rhs)"
   ]
  },
  {
   "cell_type": "code",
   "execution_count": 8,
   "metadata": {},
   "outputs": [
    {
     "name": "stdout",
     "output_type": "stream",
     "text": [
      "Number of feasible solutions = 3.0\n"
     ]
    }
   ],
   "source": [
    "# Instantiate the classical optimizer class\n",
    "classical_optimizer = ClassicalOptimizer(instance,n,K)\n",
    "\n",
    "# Print number of feasible solutions\n",
    "print('Number of feasible solutions = ' + str(classical_optimizer.compute_allowed_combinations()))"
   ]
  },
  {
   "cell_type": "code",
   "execution_count": 9,
   "metadata": {},
   "outputs": [
    {
     "name": "stdout",
     "output_type": "stream",
     "text": [
      "[1.0, 1.0, 1.0, 0.0, 1.0, 0.0]\n"
     ]
    }
   ],
   "source": [
    "# Solve the problem in a classical fashion via CPLEX\n",
    "x = None\n",
    "z = None\n",
    "try:\n",
    "    x,classical_cost = classical_optimizer.cplex_solution()\n",
    "    # Put the solution in the z variable\n",
    "    z = [x[ii] for ii in range(n**2) if ii//n != ii%n]\n",
    "    # Print the solution\n",
    "    print(z)\n",
    "except: \n",
    "    print(\"CPLEX may be missing.\")"
   ]
  },
  {
   "cell_type": "code",
   "execution_count": 14,
   "metadata": {},
   "outputs": [
    {
     "data": {
      "image/png": "[encoded data removed]",
      "text/plain": [
       "<Figure size 432x288 with 1 Axes>"
      ]
     },
     "metadata": {
      "needs_background": "light"
     },
     "output_type": "display_data"
    }
   ],
   "source": [
    "# Visualize the solution\n",
    "def visualize_solution(xc, yc, x, C, n, K, title_str):\n",
    "    plt.figure()\n",
    "    plt.scatter(xc, yc, s=200)\n",
    "    for i in range(len(xc)):\n",
    "        plt.annotate(i, (xc[i] + 0.15, yc[i]), size=16, color='r')\n",
    "    plt.plot(xc[0], yc[0], 'r*', ms=20)\n",
    "\n",
    "    plt.grid()\n",
    "\n",
    "    for ii in range(0, n ** 2):\n",
    "    \n",
    "        if x[ii] > 0:\n",
    "            ix = ii // n\n",
    "            iy = ii % n\n",
    "            plt.arrow(xc[ix], yc[ix], xc[iy] - xc[ix], yc[iy] - yc[ix], length_includes_head=True, head_width=.25)\n",
    "\n",
    "    plt.title(title_str+' cost = ' + str(int(C * 100) / 100.))\n",
    "    plt.show()    \n",
    "if x.any(): visualize_solution(xc, yc, x, classical_cost, n, K, 'Classical')"
   ]
  },
  {
   "cell_type": "markdown",
   "metadata": {},
   "source": [
    "If you have CPLEX, the solution shows the depot with a star and the selected routes for the vehicles with arrows. "
   ]
  },
  {
   "cell_type": "markdown",
   "metadata": {},
   "source": [
    "## Quantum solution from the ground up\n",
    "\n",
    "For the quantum solution, we use Qiskit. \n",
    "\n",
    "First, we derive the solution from the ground up, using a class QuantumOptimizer that encodes the quantum approach to solve the problem and then we instantiate it and solve it. We define the following methods inside the class:\n",
    "- `binary_representation` : encodes the problem $(M)$ into a the Ising Hamiltonian QP (that's basically linear algebra);\n",
    "- `construct_hamiltonian` : constructs the Ising Hamiltonian in terms of the $Z$ basis;\n",
    "- `check_hamiltonian` : makes sure that the Ising Hamiltonian is correctly encoded in the $Z$ basis: to do this, it solves a eigenvalue-eigenvector problem for a symmetric matrix of dimension $2^N \\times 2^N$. For the problem at hand $n=3$, that is $N = 12$ seems the limit; \n",
    "- `vqe_solution` : solves the problem $(M)$ via VQE by using the SPSA solver (with default parameters);\n",
    "- `_q_solution` : internal routine to represent the solution in a usable format.\n"
   ]
  },
  {
   "cell_type": "code",
   "execution_count": 15,
   "metadata": {},
   "outputs": [],
   "source": [
    "class QuantumOptimizer:\n",
    "\n",
    "    def __init__(self, instance, n, K, max_trials=1000):\n",
    "\n",
    "        self.instance = instance\n",
    "        self.n = n\n",
    "        self.K = K\n",
    "        self.max_trials = max_trials\n",
    "\n",
    "    def binary_representation(self,x_sol=0):\n",
    "\n",
    "        instance = self.instance\n",
    "        n = self.n\n",
    "        K = self.K\n",
    "\n",
    "        A = np.max(instance) * 100  # A parameter of cost function\n",
    "\n",
    "        # Determine the weights w\n",
    "        instance_vec = instance.reshape(n ** 2)\n",
    "        w_list = [instance_vec[x] for x in range(n ** 2) if instance_vec[x] > 0]\n",
    "        w = np.zeros(n * (n - 1))\n",
    "        for ii in range(len(w_list)):\n",
    "            w[ii] = w_list[ii]\n",
    "\n",
    "        # Some variables I will use\n",
    "        Id_n = np.eye(n)\n",
    "        Im_n_1 = np.ones([n - 1, n - 1])\n",
    "        Iv_n_1 = np.ones(n)\n",
    "        Iv_n_1[0] = 0\n",
    "        Iv_n = np.ones(n-1)\n",
    "        neg_Iv_n_1 = np.ones(n) - Iv_n_1\n",
    "\n",
    "        v = np.zeros([n, n*(n-1)])\n",
    "        for ii in range(n):\n",
    "            count = ii-1\n",
    "            for jj in range(n*(n-1)):\n",
    "\n",
    "                if jj//(n-1) == ii:\n",
    "                    count = ii\n",
    "\n",
    "                if jj//(n-1) != ii and jj%(n-1) == count:\n",
    "                    v[ii][jj] = 1.\n",
    "\n",
    "        vn = np.sum(v[1:], axis=0)\n",
    "\n",
    "        # Q defines the interactions between variables\n",
    "        Q = A*(np.kron(Id_n, Im_n_1) + np.dot(v.T, v))\n",
    "\n",
    "        # g defines the contribution from the individual variables\n",
    "        g = w - 2 * A * (np.kron(Iv_n_1,Iv_n) + vn.T) - \\\n",
    "                2 * A * K * (np.kron(neg_Iv_n_1, Iv_n) + v[0].T)\n",
    "\n",
    "        # c is the constant offset\n",
    "        c = 2 * A * (n-1) + 2 * A * (K ** 2)\n",
    "\n",
    "        try:\n",
    "            max(x_sol)\n",
    "            # Evaluates the cost distance from a binary representation of a path\n",
    "            fun = lambda x: np.dot(np.around(x), np.dot(Q, np.around(x))) + np.dot(g, np.around(x)) + c\n",
    "            cost = fun(x_sol)\n",
    "        except:\n",
    "            cost = 0\n",
    "\n",
    "        return Q,g,c,cost\n",
    "\n",
    "    def construct_hamiltonian(self):\n",
    "\n",
    "        instance = self.instance\n",
    "        n = self.n\n",
    "        K = self.K\n",
    "\n",
    "        N = (n - 1) * n  # number of qubits\n",
    "        Q,g,c,_ = self.binary_representation()\n",
    "\n",
    "        # Defining the new matrices in the Z-basis\n",
    "\n",
    "        Iv = np.ones(N)\n",
    "        Qz = (Q / 4)\n",
    "        gz = (-g / 2 - np.dot(Iv, Q / 4) - np.dot(Q / 4, Iv))\n",
    "        cz = (c + np.dot(g / 2, Iv) + np.dot(Iv, np.dot(Q / 4, Iv)))\n",
    "\n",
    "        cz = cz + np.trace(Qz)\n",
    "        Qz = Qz - np.diag(np.diag(Qz))\n",
    "\n",
    "        # Getting the Hamiltonian in the form of a list of Pauli terms\n",
    "\n",
    "        pauli_list = []\n",
    "        for i in range(N):\n",
    "            if gz[i] != 0:\n",
    "                wp = np.zeros(N)\n",
    "                vp = np.zeros(N)\n",
    "                vp[i] = 1\n",
    "                pauli_list.append((gz[i], Pauli(vp, wp)))\n",
    "        for i in range(N):\n",
    "            for j in range(i):\n",
    "                if Qz[i, j] != 0:\n",
    "                    wp = np.zeros(N)\n",
    "                    vp = np.zeros(N)\n",
    "                    vp[i] = 1\n",
    "                    vp[j] = 1\n",
    "                    pauli_list.append((2 * Qz[i, j], Pauli(vp, wp)))\n",
    "\n",
    "        pauli_list.append((cz, Pauli(np.zeros(N), np.zeros(N))))\n",
    "\n",
    "        return cz, pauli_list\n",
    "\n",
    "    def check_hamiltonian(self):\n",
    "\n",
    "        cz, op = self.construct_hamiltonian()\n",
    "        Op = WeightedPauliOperator(paulis=op)\n",
    "\n",
    "        qubitOp, offset = Op, 0\n",
    "        algo_input = EnergyInput(qubitOp)\n",
    "\n",
    "        # Making the Hamiltonian in its full form and getting the lowest eigenvalue and eigenvector\n",
    "\n",
    "        algorithm_cfg = {\n",
    "            'name': 'ExactEigensolver',\n",
    "        }\n",
    "\n",
    "        params = {\n",
    "            'problem': {'name': 'ising'},\n",
    "            'algorithm': algorithm_cfg\n",
    "        }\n",
    "        result = run_algorithm(params, algo_input)\n",
    "\n",
    "        quantum_solution = self._q_solution(result['eigvecs'][0],self.n*(self.n+1))\n",
    "        ground_level = result['energy'] + offset\n",
    "\n",
    "        return quantum_solution, ground_level\n",
    "\n",
    "    def vqe_solution(self):\n",
    "\n",
    "        cz, op = self.construct_hamiltonian()\n",
    "        Op = WeightedPauliOperator(paulis=op)\n",
    "\n",
    "        qubitOp, offset = Op, cz\n",
    "        algo_input = EnergyInput(qubitOp)\n",
    "\n",
    "\n",
    "        algorithm_cfg = {\n",
    "            'name': 'VQE'\n",
    "        }\n",
    "\n",
    "        optimizer_cfg = {\n",
    "            'name': 'SPSA',\n",
    "            'max_trials': self.max_trials\n",
    "        }\n",
    "\n",
    "        var_form_cfg = {\n",
    "            'name': 'RY',\n",
    "            'depth': 5,\n",
    "            'entanglement': 'linear'\n",
    "        }\n",
    "\n",
    "        params = {\n",
    "            'problem': {'name': 'ising', 'random_seed': 10598},\n",
    "            'algorithm': algorithm_cfg,\n",
    "            'optimizer': optimizer_cfg,\n",
    "            'variational_form': var_form_cfg,\n",
    "            'backend': {'name': 'qasm_simulator'\n",
    "                        }\n",
    "        }\n",
    "\n",
    "        result = run_algorithm(params, algo_input)\n",
    "\n",
    "        #quantum_solution = self._q_solution(result['eigvecs'][0], self.n * (self.n + 1))\n",
    "        quantum_solution_dict = result['eigvecs'][0]\n",
    "\n",
    "        q_s = max(quantum_solution_dict.items(), key=operator.itemgetter(1))[0]\n",
    "        quantum_solution= [int(chars) for chars in q_s]\n",
    "        quantum_solution = np.flip(quantum_solution, axis=0)\n",
    "\n",
    "        _,_,_,level = self.binary_representation(x_sol=quantum_solution)\n",
    "        return quantum_solution_dict, quantum_solution, level\n",
    "\n",
    "    def _q_solution(self, v, N):\n",
    "\n",
    "        index_value = [x for x in range(len(v)) if v[x] == max(v)][0]\n",
    "        string_value = \"{0:b}\".format(index_value)\n",
    "\n",
    "        while len(string_value)<N:\n",
    "            string_value = '0'+string_value\n",
    "\n",
    "        sol = list()\n",
    "        for elements in string_value:\n",
    "            if elements == '0':\n",
    "                sol.append(0)\n",
    "            else:\n",
    "                sol.append(1)\n",
    "\n",
    "        sol = np.flip(sol, axis=0)\n",
    "\n",
    "        return sol"
   ]
  },
  {
   "cell_type": "markdown",
   "metadata": {},
   "source": [
    "### Step 1\n",
    "\n",
    "Instantiate the quantum optimizer class with parameters: \n",
    "- the instance;\n",
    "- the number of nodes and vehicles `n` and `K`;\n",
    "- the number of iterations for SPSA in VQE (default 1000)"
   ]
  },
  {
   "cell_type": "code",
   "execution_count": 16,
   "metadata": {},
   "outputs": [],
   "source": [
    "# Instantiate the quantum optimizer class with parameters: \n",
    "quantum_optimizer = QuantumOptimizer(instance, n, K, 100)"
   ]
  },
  {
   "cell_type": "markdown",
   "metadata": {},
   "source": [
    "### Step 2\n",
    "\n",
    "Encode the problem as a binary formulation (IH-QP).\n",
    "\n",
    "Sanity check: make sure that the binary formulation in the quantum optimizer is correct (i.e., yields the same cost given the same solution)."
   ]
  },
  {
   "cell_type": "code",
   "execution_count": 17,
   "metadata": {},
   "outputs": [
    {
     "name": "stdout",
     "output_type": "stream",
     "text": [
      "132.11148115684045 132.1114811568365\n",
      "Binary formulation is correct\n"
     ]
    }
   ],
   "source": [
    "# Check if the binary representation is correct\n",
    "try:\n",
    "    if z:\n",
    "        Q,g,c,binary_cost = quantum_optimizer.binary_representation(x_sol = z)\n",
    "        print(binary_cost,classical_cost)\n",
    "        if np.abs(binary_cost - classical_cost)<0.01:\n",
    "            print('Binary formulation is correct')\n",
    "        else: print('Error in the binary formulation')\n",
    "    else:\n",
    "        print('Could not verify the correctness, due to CPLEX solution being unavailable.')\n",
    "        Q,g,c,binary_cost = quantum_optimizer.binary_representation()\n",
    "except NameError as e:\n",
    "    print(\"Warning: Please run the cells above first.\")\n",
    "    print(e)"
   ]
  },
  {
   "cell_type": "markdown",
   "metadata": {},
   "source": [
    "### Step 3\n",
    "\n",
    "Encode the problem as an Ising Hamiltonian in the Z basis. \n",
    "\n",
    "Sanity check: make sure that the formulation is correct (i.e., yields the same cost given the same solution)"
   ]
  },
  {
   "cell_type": "code",
   "execution_count": 18,
   "metadata": {},
   "outputs": [
    {
     "name": "stderr",
     "output_type": "stream",
     "text": [
      "/home/azuldragon/IJProjects/TensorflowQuantum/tfq/lib/python3.6/site-packages/qiskit/aqua/qiskit_aqua.py:119: DeprecationWarning: Declarative API will be removed next Aqua release. Please construct classes and call appropriate methods.\n",
      "  warnings.warn(aqua_globals.CONFIG_DEPRECATION_MSG, DeprecationWarning)\n"
     ]
    },
    {
     "name": "stdout",
     "output_type": "stream",
     "text": [
      "[1 1 1 0 1 0 0 0 0 0 0 0]\n",
      "Ising Hamiltonian in Z basis is correct\n"
     ]
    }
   ],
   "source": [
    "ground_state, ground_level = quantum_optimizer.check_hamiltonian()\n",
    "print(ground_state)\n",
    "\n",
    "if z:\n",
    "    if np.abs(ground_level - classical_cost)<0.01:\n",
    "        print('Ising Hamiltonian in Z basis is correct')\n",
    "    else: print('Error in the Ising Hamiltonian formulation')"
   ]
  },
  {
   "cell_type": "markdown",
   "metadata": {},
   "source": [
    "### Step 4\n",
    "\n",
    "Solve the problem via VQE. N.B. Depending on the number of qubits, the state-vector simulation can can take a while; for example with 12 qubits, it takes more than 12 hours. Logging useful to see what the program is doing."
   ]
  },
  {
   "cell_type": "code",
   "execution_count": 19,
   "metadata": {},
   "outputs": [
    {
     "name": "stderr",
     "output_type": "stream",
     "text": [
      "/home/azuldragon/IJProjects/TensorflowQuantum/tfq/lib/python3.6/site-packages/qiskit/aqua/qiskit_aqua.py:119: DeprecationWarning: Declarative API will be removed next Aqua release. Please construct classes and call appropriate methods.\n",
      "  warnings.warn(aqua_globals.CONFIG_DEPRECATION_MSG, DeprecationWarning)\n"
     ]
    },
    {
     "name": "stdout",
     "output_type": "stream",
     "text": [
      "[1 1 1 0 1 0] 132.11148115684045\n"
     ]
    }
   ],
   "source": [
    "quantum_dictionary, quantum_solution, quantum_cost = quantum_optimizer.vqe_solution()\n",
    "\n",
    "print(quantum_solution, quantum_cost)"
   ]
  },
  {
   "cell_type": "markdown",
   "metadata": {},
   "source": [
    "### Step 5\n",
    "Visualize the solution"
   ]
  },
  {
   "cell_type": "code",
   "execution_count": 21,
   "metadata": {
    "scrolled": false
   },
   "outputs": [
    {
     "data": {
      "image/png": "[encoded data removed]",
      "text/plain": [
       "<Figure size 432x288 with 1 Axes>"
      ]
     },
     "metadata": {
      "needs_background": "light"
     },
     "output_type": "display_data"
    },
    {
     "data": {
      "image/png": "[encoded data removed]",
      "text/plain": [
       "<Figure size 432x288 with 1 Axes>"
      ]
     },
     "metadata": {
      "needs_background": "light"
     },
     "output_type": "display_data"
    }
   ],
   "source": [
    "# Put the solution in a way that is compatible with the classical variables\n",
    "x_quantum = np.zeros(n**2)\n",
    "kk = 0\n",
    "for ii in range(n ** 2):\n",
    "    if ii // n != ii % n:\n",
    "        x_quantum[ii] = quantum_solution[kk]\n",
    "        kk +=  1\n",
    "\n",
    "\n",
    "# visualize the solution \n",
    "visualize_solution(xc, yc, x_quantum, quantum_cost, n, K, 'Quantum')\n",
    "                   \n",
    "# and visualize the classical for comparison\n",
    "if x.any(): visualize_solution(xc, yc, x, classical_cost, n, K, 'Classical')"
   ]
  },
  {
   "cell_type": "markdown",
   "metadata": {},
   "source": [
    "The plots present the depot with a star and the selected routes for the vehicles with arrows. Note that in this particular case, we can find the optimal solution of the QP formulation, which happens to coincide with the optimal solution of the ILP.\n",
    "\n",
    "Keep in mind that VQE is an heuristic working on the QP formulation of the Ising Hamiltonian, though. For suitable choices of A, local optima of the QP formulation will be feasible solutions to the ILP. While for some small instances, as above, we can find optimal solutions of the QP formulation which coincide with optima of the ILP, finding optimal solutions of the ILP is harder than finding local optima of the QP formulation, in general, which in turn is harder than finding feasible solutions of the ILP. Even within the VQE, one may provide stronger guarantees, for specific variational forms (trial wave functions). \n",
    "\n",
    "Last but not least, you may be pleased to learn that the above has been packaged in Qiskit Aqua."
   ]
  },
  {
   "cell_type": "code",
   "execution_count": 23,
   "metadata": {},
   "outputs": [
    {
     "name": "stderr",
     "output_type": "stream",
     "text": [
      "/home/azuldragon/IJProjects/TensorflowQuantum/tfq/lib/python3.6/site-packages/qiskit/optimization/ising/vehicle_routing.py:202: DeprecationWarning: get_vehiclerouting_qubitops function has been changed to get_operatorthe method here will be removed after Aqua 0.7+\n",
      "  DeprecationWarning)\n"
     ]
    },
    {
     "name": "stdout",
     "output_type": "stream",
     "text": [
      "[1 1 1 0 0 1]\n",
      "12434.909288240102\n"
     ]
    }
   ],
   "source": [
    "from qiskit import BasicAer\n",
    "from qiskit.aqua import QuantumInstance\n",
    "from qiskit.aqua import run_algorithm\n",
    "from qiskit.aqua.input import EnergyInput\n",
    "from qiskit.aqua.algorithms import VQE, QAOA, ExactEigensolver\n",
    "from qiskit.aqua.components.optimizers import COBYLA\n",
    "from qiskit.aqua.components.variational_forms import RY\n",
    "from qiskit.optimization.ising.vehicle_routing import * \n",
    "#from qiskit.aqua.translators.ising.vehicle_routing import *\n",
    "\n",
    "qubitOp = get_vehiclerouting_qubitops(instance, n, K)\n",
    "backend = BasicAer.get_backend('statevector_simulator')\n",
    "seed = 50\n",
    "cobyla = COBYLA()\n",
    "cobyla.set_options(maxiter=250)\n",
    "ry = RY(qubitOp.num_qubits, depth=3, entanglement='full')\n",
    "vqe = VQE(qubitOp, ry, cobyla)\n",
    "vqe.random_seed = seed\n",
    "quantum_instance = QuantumInstance(backend=backend, seed_simulator=seed, seed_transpiler=seed)\n",
    "result = vqe.run(quantum_instance)\n",
    "# print(result)\n",
    "x_quantum2 = get_vehiclerouting_solution(instance, n, K, result)\n",
    "print(x_quantum2)\n",
    "quantum_cost2 = get_vehiclerouting_cost(instance, n, K, x_quantum2)\n",
    "print(quantum_cost2)"
   ]
  }
 ],
 "metadata": {
  "kernelspec": {
   "display_name": "Python 3",
   "language": "python",
   "name": "python3"
  },
  "language_info": {
   "codemirror_mode": {
    "name": "ipython",
    "version": 3
   },
   "file_extension": ".py",
   "mimetype": "text/x-python",
   "name": "python",
   "nbconvert_exporter": "python",
   "pygments_lexer": "ipython3",
   "version": "3.6.9"
  }
 },
 "nbformat": 4,
 "nbformat_minor": 1
}
