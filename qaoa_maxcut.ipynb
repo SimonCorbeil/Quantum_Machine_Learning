{
  "nbformat": 4,
  "nbformat_minor": 0,
  "metadata": {
    "kernelspec": {
      "display_name": "Python 3",
      "language": "python",
      "name": "python3"
    },
    "language_info": {
      "codemirror_mode": {
        "name": "ipython",
        "version": 3
      },
      "file_extension": ".py",
      "mimetype": "text/x-python",
      "name": "python",
      "nbconvert_exporter": "python",
      "pygments_lexer": "ipython3",
      "version": "3.6.9"
    },
    "colab": {
      "name": "qaoa_maxcut.ipynb",
      "provenance": []
    }
  },
  "cells": [
    {
      "cell_type": "code",
      "metadata": {
        "id": "AMaxSmuQY9Fb",
        "colab_type": "code",
        "colab": {
          "base_uri": "https://localhost:8080/",
          "height": 207
        },
        "outputId": "2b1cf3e6-c1a5-4832-bb1c-e4aa9fe393b6"
      },
      "source": [
        "# This cell is added by sphinx-gallery\n",
        "# It can be customized to whatever you like\n",
        "pip install pennylane "
      ],
      "execution_count": 1,
      "outputs": [
        {
          "output_type": "stream",
          "text": [
            "Requirement already satisfied: pennylane in /usr/local/lib/python3.6/dist-packages (0.8.1)\n",
            "Requirement already satisfied: numpy in /usr/local/lib/python3.6/dist-packages (from pennylane) (1.18.2)\n",
            "Requirement already satisfied: autograd in /usr/local/lib/python3.6/dist-packages (from pennylane) (1.3)\n",
            "Requirement already satisfied: scipy in /usr/local/lib/python3.6/dist-packages (from pennylane) (1.4.1)\n",
            "Requirement already satisfied: semantic-version==2.6 in /usr/local/lib/python3.6/dist-packages (from pennylane) (2.6.0)\n",
            "Requirement already satisfied: appdirs in /usr/local/lib/python3.6/dist-packages (from pennylane) (1.4.3)\n",
            "Requirement already satisfied: networkx in /usr/local/lib/python3.6/dist-packages (from pennylane) (2.4)\n",
            "Requirement already satisfied: toml in /usr/local/lib/python3.6/dist-packages (from pennylane) (0.10.0)\n",
            "Requirement already satisfied: future>=0.15.2 in /usr/local/lib/python3.6/dist-packages (from autograd->pennylane) (0.16.0)\n",
            "Requirement already satisfied: decorator>=4.3.0 in /usr/local/lib/python3.6/dist-packages (from networkx->pennylane) (4.4.2)\n"
          ],
          "name": "stdout"
        }
      ]
    },
    {
      "cell_type": "code",
      "metadata": {
        "id": "OUgqolvMY9Fh",
        "colab_type": "code",
        "colab": {
          "base_uri": "https://localhost:8080/",
          "height": 955
        },
        "outputId": "3a30694b-358a-4e67-a52f-039f2c5f6ca6"
      },
      "source": [
        "pip install pennylane-cirq==0.8.0"
      ],
      "execution_count": 2,
      "outputs": [
        {
          "output_type": "stream",
          "text": [
            "Requirement already satisfied: pennylane-cirq==0.8.0 in /usr/local/lib/python3.6/dist-packages (0.8.0)\n",
            "Requirement already satisfied: cirq in /usr/local/lib/python3.6/dist-packages (from pennylane-cirq==0.8.0) (0.7.0)\n",
            "Requirement already satisfied: pennylane in /usr/local/lib/python3.6/dist-packages (from pennylane-cirq==0.8.0) (0.8.1)\n",
            "Requirement already satisfied: pandas in /usr/local/lib/python3.6/dist-packages (from cirq->pennylane-cirq==0.8.0) (1.0.3)\n",
            "Requirement already satisfied: requests~=2.18 in /usr/local/lib/python3.6/dist-packages (from cirq->pennylane-cirq==0.8.0) (2.21.0)\n",
            "Requirement already satisfied: google-api-python-client~=1.6 in /usr/local/lib/python3.6/dist-packages (from cirq->pennylane-cirq==0.8.0) (1.7.12)\n",
            "Collecting networkx==2.3\n",
            "\u001b[?25l  Downloading https://files.pythonhosted.org/packages/85/08/f20aef11d4c343b557e5de6b9548761811eb16e438cee3d32b1c66c8566b/networkx-2.3.zip (1.7MB)\n",
            "\u001b[K     |████████████████████████████████| 1.8MB 4.9MB/s \n",
            "\u001b[?25hRequirement already satisfied: sortedcontainers~=2.0 in /usr/local/lib/python3.6/dist-packages (from cirq->pennylane-cirq==0.8.0) (2.1.0)\n",
            "Requirement already satisfied: scipy in /usr/local/lib/python3.6/dist-packages (from cirq->pennylane-cirq==0.8.0) (1.4.1)\n",
            "Requirement already satisfied: typing-extensions in /usr/local/lib/python3.6/dist-packages (from cirq->pennylane-cirq==0.8.0) (3.6.6)\n",
            "Requirement already satisfied: matplotlib~=3.0 in /usr/local/lib/python3.6/dist-packages (from cirq->pennylane-cirq==0.8.0) (3.2.1)\n",
            "Requirement already satisfied: sympy==1.4 in /usr/local/lib/python3.6/dist-packages (from cirq->pennylane-cirq==0.8.0) (1.4)\n",
            "Requirement already satisfied: dataclasses; python_version < \"3.7\" in /usr/local/lib/python3.6/dist-packages (from cirq->pennylane-cirq==0.8.0) (0.7)\n",
            "Requirement already satisfied: numpy~=1.16 in /usr/local/lib/python3.6/dist-packages (from cirq->pennylane-cirq==0.8.0) (1.18.2)\n",
            "Requirement already satisfied: protobuf==3.8.0 in /usr/local/lib/python3.6/dist-packages (from cirq->pennylane-cirq==0.8.0) (3.8.0)\n",
            "Requirement already satisfied: semantic-version==2.6 in /usr/local/lib/python3.6/dist-packages (from pennylane->pennylane-cirq==0.8.0) (2.6.0)\n",
            "Requirement already satisfied: toml in /usr/local/lib/python3.6/dist-packages (from pennylane->pennylane-cirq==0.8.0) (0.10.0)\n",
            "Requirement already satisfied: autograd in /usr/local/lib/python3.6/dist-packages (from pennylane->pennylane-cirq==0.8.0) (1.3)\n",
            "Requirement already satisfied: appdirs in /usr/local/lib/python3.6/dist-packages (from pennylane->pennylane-cirq==0.8.0) (1.4.3)\n",
            "Requirement already satisfied: pytz>=2017.2 in /usr/local/lib/python3.6/dist-packages (from pandas->cirq->pennylane-cirq==0.8.0) (2018.9)\n",
            "Requirement already satisfied: python-dateutil>=2.6.1 in /usr/local/lib/python3.6/dist-packages (from pandas->cirq->pennylane-cirq==0.8.0) (2.8.1)\n",
            "Requirement already satisfied: idna<2.9,>=2.5 in /usr/local/lib/python3.6/dist-packages (from requests~=2.18->cirq->pennylane-cirq==0.8.0) (2.8)\n",
            "Requirement already satisfied: certifi>=2017.4.17 in /usr/local/lib/python3.6/dist-packages (from requests~=2.18->cirq->pennylane-cirq==0.8.0) (2020.4.5.1)\n",
            "Requirement already satisfied: urllib3<1.25,>=1.21.1 in /usr/local/lib/python3.6/dist-packages (from requests~=2.18->cirq->pennylane-cirq==0.8.0) (1.24.3)\n",
            "Requirement already satisfied: chardet<3.1.0,>=3.0.2 in /usr/local/lib/python3.6/dist-packages (from requests~=2.18->cirq->pennylane-cirq==0.8.0) (3.0.4)\n",
            "Requirement already satisfied: google-auth-httplib2>=0.0.3 in /usr/local/lib/python3.6/dist-packages (from google-api-python-client~=1.6->cirq->pennylane-cirq==0.8.0) (0.0.3)\n",
            "Requirement already satisfied: uritemplate<4dev,>=3.0.0 in /usr/local/lib/python3.6/dist-packages (from google-api-python-client~=1.6->cirq->pennylane-cirq==0.8.0) (3.0.1)\n",
            "Requirement already satisfied: httplib2<1dev,>=0.17.0 in /usr/local/lib/python3.6/dist-packages (from google-api-python-client~=1.6->cirq->pennylane-cirq==0.8.0) (0.17.2)\n",
            "Requirement already satisfied: six<2dev,>=1.6.1 in /usr/local/lib/python3.6/dist-packages (from google-api-python-client~=1.6->cirq->pennylane-cirq==0.8.0) (1.12.0)\n",
            "Requirement already satisfied: google-auth>=1.4.1 in /usr/local/lib/python3.6/dist-packages (from google-api-python-client~=1.6->cirq->pennylane-cirq==0.8.0) (1.7.2)\n",
            "Requirement already satisfied: decorator>=4.3.0 in /usr/local/lib/python3.6/dist-packages (from networkx==2.3->cirq->pennylane-cirq==0.8.0) (4.4.2)\n",
            "Requirement already satisfied: cycler>=0.10 in /usr/local/lib/python3.6/dist-packages (from matplotlib~=3.0->cirq->pennylane-cirq==0.8.0) (0.10.0)\n",
            "Requirement already satisfied: pyparsing!=2.0.4,!=2.1.2,!=2.1.6,>=2.0.1 in /usr/local/lib/python3.6/dist-packages (from matplotlib~=3.0->cirq->pennylane-cirq==0.8.0) (2.4.7)\n",
            "Requirement already satisfied: kiwisolver>=1.0.1 in /usr/local/lib/python3.6/dist-packages (from matplotlib~=3.0->cirq->pennylane-cirq==0.8.0) (1.2.0)\n",
            "Requirement already satisfied: mpmath>=0.19 in /usr/local/lib/python3.6/dist-packages (from sympy==1.4->cirq->pennylane-cirq==0.8.0) (1.1.0)\n",
            "Requirement already satisfied: setuptools in /usr/local/lib/python3.6/dist-packages (from protobuf==3.8.0->cirq->pennylane-cirq==0.8.0) (46.1.3)\n",
            "Requirement already satisfied: future>=0.15.2 in /usr/local/lib/python3.6/dist-packages (from autograd->pennylane->pennylane-cirq==0.8.0) (0.16.0)\n",
            "Requirement already satisfied: cachetools<3.2,>=2.0.0 in /usr/local/lib/python3.6/dist-packages (from google-auth>=1.4.1->google-api-python-client~=1.6->cirq->pennylane-cirq==0.8.0) (3.1.1)\n",
            "Requirement already satisfied: rsa<4.1,>=3.1.4 in /usr/local/lib/python3.6/dist-packages (from google-auth>=1.4.1->google-api-python-client~=1.6->cirq->pennylane-cirq==0.8.0) (4.0)\n",
            "Requirement already satisfied: pyasn1-modules>=0.2.1 in /usr/local/lib/python3.6/dist-packages (from google-auth>=1.4.1->google-api-python-client~=1.6->cirq->pennylane-cirq==0.8.0) (0.2.8)\n",
            "Requirement already satisfied: pyasn1>=0.1.3 in /usr/local/lib/python3.6/dist-packages (from rsa<4.1,>=3.1.4->google-auth>=1.4.1->google-api-python-client~=1.6->cirq->pennylane-cirq==0.8.0) (0.4.8)\n",
            "Building wheels for collected packages: networkx\n",
            "  Building wheel for networkx (setup.py) ... \u001b[?25l\u001b[?25hdone\n",
            "  Created wheel for networkx: filename=networkx-2.3-py2.py3-none-any.whl size=1556408 sha256=c9d9ca980f2e6ec7f25b10eb207b7d15f6db5a91435916ad4b3b478085b37bbe\n",
            "  Stored in directory: /root/.cache/pip/wheels/de/63/64/3699be2a9d0ccdb37c7f16329acf3863fd76eda58c39c737af\n",
            "Successfully built networkx\n",
            "\u001b[31mERROR: albumentations 0.1.12 has requirement imgaug<0.2.7,>=0.2.5, but you'll have imgaug 0.2.9 which is incompatible.\u001b[0m\n",
            "Installing collected packages: networkx\n",
            "  Found existing installation: networkx 2.4\n",
            "    Uninstalling networkx-2.4:\n",
            "      Successfully uninstalled networkx-2.4\n",
            "Successfully installed networkx-2.3\n"
          ],
          "name": "stdout"
        }
      ]
    },
    {
      "cell_type": "code",
      "metadata": {
        "id": "HY6ZyofYY9Fm",
        "colab_type": "code",
        "colab": {}
      },
      "source": [
        "%matplotlib inline"
      ],
      "execution_count": 0,
      "outputs": []
    },
    {
      "cell_type": "markdown",
      "metadata": {
        "id": "ID1EpNV-Y9Fq",
        "colab_type": "text"
      },
      "source": [
        "\n",
        "\n",
        "QAOA for MaxCut\n",
        "===============\n"
      ]
    },
    {
      "cell_type": "markdown",
      "metadata": {
        "id": "3y1fOHHEY9Fr",
        "colab_type": "text"
      },
      "source": [
        "In this tutorial we implement the quantum approximate optimization algorithm (QAOA) for the MaxCut\n",
        "problem as proposed by `Farhi, Goldstone, and Gutmann (2014) <https://arxiv.org/abs/1411.4028>`__. First, we\n",
        "give an overview of the MaxCut problem using a simple example, a graph with 4 vertices and 4 edges. We then\n",
        "show how to find the maximum cut by running the QAOA algorithm using PennyLane.\n",
        "\n",
        "Background\n",
        "----------\n",
        "\n",
        "The MaxCut problem\n",
        "~~~~~~~~~~~~~~~~~~\n",
        "The aim of MaxCut is to maximize the number of edges (yellow lines) in a graph that are \"cut\" by\n",
        "a given partition of the vertices (blue circles) into two sets (see figure below).\n",
        "\n",
        ".. figure:: ../demonstrations/qaoa_maxcut/qaoa_maxcut_partition.png\n",
        "   :align: center\n",
        "   :scale: 65%\n",
        "   :alt: qaoa_operators\n",
        "\n",
        "|\n",
        "\n",
        "Consider a graph with $m$ edges and $n$ vertices. We seek the partition\n",
        "$z$ of the vertices into two sets\n",
        "$A$ and $B$ which maximizes\n",
        "\n",
        "\\begin{align}C(z) = \\sum_{\\alpha=1}^{m}C_\\alpha(z),\\end{align}\n",
        "\n",
        "where $C$ counts the number of edges cut. $C_\\alpha(z)=1$ if $z$ places one vertex from the\n",
        "$\\alpha^\\text{th}$ edge in set $A$ and the other in set $B$, and $C_\\alpha(z)=0$ otherwise.\n",
        "Finding a cut which yields the maximum possible value of $C$ is an NP-complete problem, so our best hope for a\n",
        "polynomial-time algorithm lies in an approximate optimization.\n",
        "In the case of MaxCut, this means finding a partition $z$ which\n",
        "yields a value for $C(z)$ that is close to the maximum possible value.\n",
        "\n",
        "We can represent the assignment of vertices to set $A$ or $B$ using a bitstring,\n",
        "$z=z_1...z_n$ where $z_i=0$ if the $i^\\text{th}$ vertex is in $A$ and\n",
        "$z_i = 1$ if it is in $B$. For instance,\n",
        "in the situation depicted in the figure above the bitstring representation is $z=0101\\text{,}$\n",
        "indicating that the $0^{\\text{th}}$ and $2^{\\text{nd}}$ vertices are in $A$\n",
        "while the $1^{\\text{st}}$ and $3^{\\text{rd}}$ are in\n",
        "$B$. This assignment yields a value for the objective function (the number of yellow lines cut)\n",
        "$C=4$, which turns out to be the maximum cut. In the following sections,\n",
        "we will represent partitions using computational basis states and use PennyLane to\n",
        "rediscover this maximum cut.\n",
        "\n",
        "<div class=\"alert alert-info\"><h4>Note</h4><p>In the graph above, $z=1010$ could equally well serve as the maximum cut.</p></div>\n",
        "\n",
        "A circuit for QAOA\n",
        "~~~~~~~~~~~~~~~~~~~~\n",
        "This section describes implementing a circuit for QAOA using basic unitary gates to find approximate\n",
        "solutions to the MaxCut problem.\n",
        "Firstly, denoting the partitions using computational basis states $|z\\rangle$, we can represent the terms in the\n",
        "objective function as operators acting on these states\n",
        "\n",
        "\\begin{align}C_\\alpha = \\frac{1}{2}\\left(1-\\sigma_{z}^j\\sigma_{z}^k\\right),\\end{align}\n",
        "\n",
        "where the $\\alpha\\text{th}$ edge is between vertices $(j,k)$.\n",
        "$C_\\alpha$ has eigenvalue 1 if and only if the $j\\text{th}$ and $k\\text{th}$\n",
        "qubits have different z-axis measurement values, representing separate partitions.\n",
        "The objective function $C$ can be considered a diagonal operator with integer eigenvalues.\n",
        "\n",
        "QAOA starts with a uniform superposition over the $n$ bitstring basis states,\n",
        "\n",
        "\\begin{align}|+_{n}\\rangle = \\frac{1}{\\sqrt{2^n}}\\sum_{z\\in \\{0,1\\}^n} |z\\rangle.\\end{align}\n",
        "\n",
        "\n",
        "We aim to explore the space of bitstring states for a superposition which is likely to yield a\n",
        "large value for the $C$ operator upon performing a measurement in the computational basis.\n",
        "Using the $2p$ angle parameters\n",
        "$\\boldsymbol{\\gamma} = \\gamma_1\\gamma_2...\\gamma_p$, $\\boldsymbol{\\beta} = \\beta_1\\beta_2...\\beta_p$\n",
        "we perform a sequence of operations on our initial state:\n",
        "\n",
        "\\begin{align}|\\boldsymbol{\\gamma},\\boldsymbol{\\beta}\\rangle = U_{B_p}U_{C_p}U_{B_{p-1}}U_{C_{p-1}}...U_{B_1}U_{C_1}|+_n\\rangle\\end{align}\n",
        "\n",
        "where the operators have the explicit forms\n",
        "\n",
        "\\begin{align}U_{B_l} &= e^{-i\\beta_lB} = \\prod_{j=1}^n e^{-i\\beta_l\\sigma_x^j}, \\\\\n",
        "  U_{C_l} &= e^{-i\\gamma_lC} = \\prod_{\\text{edge (j,k)}} e^{-i\\gamma_l(1-\\sigma_z^j\\sigma_z^k)/2}.\\end{align}\n",
        "\n",
        "In other words, we make $p$ layers of parametrized $U_bU_C$ gates.\n",
        "These can be implemented on a quantum circuit using the gates depicted below, up to an irrelevant constant\n",
        "that gets absorbed into the parameters.\n",
        "\n",
        ".. figure:: ../demonstrations/qaoa_maxcut/qaoa_operators.png\n",
        "   :align: center\n",
        "   :scale: 100%\n",
        "   :alt: qaoa_operators\n",
        "\n",
        "|\n",
        "\n",
        "Let $\\langle \\boldsymbol{\\gamma},\n",
        "\\boldsymbol{\\beta} | C | \\boldsymbol{\\gamma},\\boldsymbol{\\beta} \\rangle$ be the expectation of the objective operator.\n",
        "In the next section, we will use PennyLane to perform classical optimization\n",
        "over the circuit parameters $(\\boldsymbol{\\gamma}, \\boldsymbol{\\beta})$.\n",
        "This will specify a state $|\\boldsymbol{\\gamma},\\boldsymbol{\\beta}\\rangle$ which is\n",
        "likely to yield an approximately optimal partition $|z\\rangle$ upon performing a measurement in the\n",
        "computational basis.\n",
        "In the case of the graph shown above, we want to measure either 0101 or 1010 from our state since these correspond to\n",
        "the optimal partitions.\n",
        "\n",
        ".. figure:: ../demonstrations/qaoa_maxcut/qaoa_optimal_state.png\n",
        "  :align: center\n",
        "  :scale: 60%\n",
        "  :alt: optimal_state\n",
        "\n",
        "|\n",
        "\n",
        "Qualitatively, QAOA tries to evolve the initial state into the plane of the\n",
        "$|0101\\rangle$, $|1010\\rangle$ basis states (see figure above).\n",
        "\n",
        "\n",
        "Implementing QAOA in PennyLane\n",
        "------------------------------\n",
        "\n",
        "Imports and setup\n",
        "~~~~~~~~~~~~~~~~~\n",
        "\n",
        "To get started, we import PennyLane along with the PennyLane-provided\n",
        "version of NumPy.\n",
        "\n"
      ]
    },
    {
      "cell_type": "code",
      "metadata": {
        "id": "4delG3_KY9Fs",
        "colab_type": "code",
        "colab": {}
      },
      "source": [
        "import pennylane as qml\n",
        "from pennylane import numpy as np"
      ],
      "execution_count": 0,
      "outputs": []
    },
    {
      "cell_type": "markdown",
      "metadata": {
        "id": "WDohpuPkY9Fw",
        "colab_type": "text"
      },
      "source": [
        "Operators\n",
        "~~~~~~~~~\n",
        "We specify the number of qubits (vertices) with ``n_wires`` and\n",
        "compose the unitary operators using the definitions\n",
        "above. $U_B$ operators act on individual wires, while $U_C$\n",
        "operators act on wires whose corresponding vertices are joined by an edge in\n",
        "the graph. We also define the graph using\n",
        "the list ``graph``, which contains the tuples of vertices defining\n",
        "each edge in the graph.\n",
        "\n"
      ]
    },
    {
      "cell_type": "code",
      "metadata": {
        "id": "i_ntr9bZY9Fx",
        "colab_type": "code",
        "colab": {}
      },
      "source": [
        "n_wires = 4\n",
        "graph = [(0, 1), (0, 3), (1, 2), (2, 3)]\n",
        "\n",
        "# unitary operator U_B with parameter beta\n",
        "def U_B(beta):\n",
        "    for wire in range(n_wires):\n",
        "        qml.RX(2 * beta, wires=wire)\n",
        "\n",
        "\n",
        "# unitary operator U_C with parameter gamma\n",
        "def U_C(gamma):\n",
        "    for edge in graph:\n",
        "        wire1 = edge[0]\n",
        "        wire2 = edge[1]\n",
        "        qml.CNOT(wires=[wire1, wire2])\n",
        "        qml.RZ(gamma, wires=wire2)\n",
        "        qml.CNOT(wires=[wire1, wire2])"
      ],
      "execution_count": 0,
      "outputs": []
    },
    {
      "cell_type": "markdown",
      "metadata": {
        "id": "zTeTO8vfY9F1",
        "colab_type": "text"
      },
      "source": [
        "We will need a way to sample\n",
        "a measurement of multiple qubits in the computational basis, so we define\n",
        "a Hermitian operator to do this. The eigenvalues of the operator are\n",
        "the qubit measurement values in integer form.\n",
        "\n"
      ]
    },
    {
      "cell_type": "code",
      "metadata": {
        "id": "KTgc_BAEY9F2",
        "colab_type": "code",
        "colab": {}
      },
      "source": [
        "def comp_basis_measurement(wires):\n",
        "    n_wires = len(wires)\n",
        "    return qml.Hermitian(np.diag(range(2 ** n_wires)), wires=wires)"
      ],
      "execution_count": 0,
      "outputs": []
    },
    {
      "cell_type": "markdown",
      "metadata": {
        "id": "YlrTupTcY9F7",
        "colab_type": "text"
      },
      "source": [
        "Circuit\n",
        "~~~~~~~\n",
        "Next, we create a quantum device with 4 qubits.\n",
        "\n"
      ]
    },
    {
      "cell_type": "code",
      "metadata": {
        "id": "F2n0KlYIY9F7",
        "colab_type": "code",
        "colab": {}
      },
      "source": [
        "dev = qml.device(\"default.qubit\", wires=n_wires, analytic=True, shots=1)"
      ],
      "execution_count": 0,
      "outputs": []
    },
    {
      "cell_type": "markdown",
      "metadata": {
        "id": "BzO1XxCsY9F_",
        "colab_type": "text"
      },
      "source": [
        "We also require a quantum node which will apply the operators according to the\n",
        "angle parameters, and return the expectation value of the observable\n",
        "$\\sigma_z^{j}\\sigma_z^{k}$ to be used in each term of the objective function later on. The\n",
        "argument ``edge`` specifies the chosen edge term in the objective function, $(j,k)$.\n",
        "Once optimized, the same quantum node can be used for sampling an approximately optimal bitstring\n",
        "if executed with the ``edge`` keyword set to ``None``. Additionally, we specify the number of layers\n",
        "(repeated applications of $U_BU_C$) using the keyword ``n_layers``.\n",
        "\n"
      ]
    },
    {
      "cell_type": "code",
      "metadata": {
        "id": "0nQDRQdNY9GA",
        "colab_type": "code",
        "colab": {}
      },
      "source": [
        "pauli_z = [[1, 0], [0, -1]]\n",
        "pauli_z_2 = np.kron(pauli_z, pauli_z)\n",
        "\n",
        "\n",
        "@qml.qnode(dev)\n",
        "def circuit(gammas, betas, edge=None, n_layers=1):\n",
        "    # apply Hadamards to get the n qubit |+> state\n",
        "    for wire in range(n_wires):\n",
        "        qml.Hadamard(wires=wire)\n",
        "    # p instances of unitary operators\n",
        "    for i in range(n_layers):\n",
        "        U_C(gammas[i])\n",
        "        U_B(betas[i])\n",
        "    if edge is None:\n",
        "        # measurement phase\n",
        "        return qml.sample(comp_basis_measurement(range(n_wires)))\n",
        "    # during the optimization phase we are evaluating a term\n",
        "    # in the objective using expval\n",
        "    return qml.expval(qml.Hermitian(pauli_z_2, wires=edge))"
      ],
      "execution_count": 0,
      "outputs": []
    },
    {
      "cell_type": "markdown",
      "metadata": {
        "id": "LBCvbpqPY9GD",
        "colab_type": "text"
      },
      "source": [
        "Optimization\n",
        "~~~~~~~~~~~~\n",
        "Finally, we optimize the objective over the\n",
        "angle parameters $\\boldsymbol{\\gamma}$ (``params[0]``) and $\\boldsymbol{\\beta}$\n",
        "(``params[1]``)\n",
        "and then sample the optimized\n",
        "circuit multiple times to yield a distribution of bitstrings. One of the optimal partitions\n",
        "($z=0101$ or $z=1010$) should be the most frequently sampled bitstring.\n",
        "We perform a maximization of $C$ by\n",
        "minimizing $-C$, following the convention that optimizations are cast as minimizations\n",
        "in PennyLane.\n",
        "\n"
      ]
    },
    {
      "cell_type": "code",
      "metadata": {
        "id": "5a5wvr55Y9GE",
        "colab_type": "code",
        "colab": {
          "base_uri": "https://localhost:8080/",
          "height": 425
        },
        "outputId": "83ae8a65-de47-4af3-f1e8-a805ac7c6171"
      },
      "source": [
        "def qaoa_maxcut(n_layers=1):\n",
        "    print(\"\\np={:d}\".format(n_layers))\n",
        "\n",
        "    # initialize the parameters near zero\n",
        "    init_params = 0.01 * np.random.rand(2, n_layers)\n",
        "\n",
        "    # minimize the negative of the objective function\n",
        "    def objective(params):\n",
        "        gammas = params[0]\n",
        "        betas = params[1]\n",
        "        neg_obj = 0\n",
        "        for edge in graph:\n",
        "            # objective for the MaxCut problem\n",
        "            neg_obj -= 0.5 * (1 - circuit(gammas, betas, edge=edge, n_layers=n_layers))\n",
        "        return neg_obj\n",
        "\n",
        "    # initialize optimizer: Adagrad works well empirically\n",
        "    opt = qml.AdagradOptimizer(stepsize=0.5)\n",
        "\n",
        "    # optimize parameters in objective\n",
        "    params = init_params\n",
        "    steps = 30\n",
        "    for i in range(steps):\n",
        "        params = opt.step(objective, params)\n",
        "        if (i + 1) % 5 == 0:\n",
        "            print(\"Objective after step {:5d}: {: .7f}\".format(i + 1, -objective(params)))\n",
        "\n",
        "    # sample measured bitstrings 100 times\n",
        "    bit_strings = []\n",
        "    n_samples = 100\n",
        "    for i in range(0, n_samples):\n",
        "        bit_strings.append(int(circuit(params[0], params[1], edge=None, n_layers=n_layers)))\n",
        "\n",
        "    # print optimal parameters and most frequently sampled bitstring\n",
        "    counts = np.bincount(np.array(bit_strings))\n",
        "    most_freq_bit_string = np.argmax(counts)\n",
        "    print(\"Optimized (gamma, beta) vectors:\\n{}\".format(params))\n",
        "    print(\"Most frequently sampled bit string is: {:04b}\".format(most_freq_bit_string))\n",
        "\n",
        "    return -objective(params), bit_strings\n",
        "\n",
        "\n",
        "# perform qaoa on our graph with p=1,2 and\n",
        "# keep the bitstring sample lists\n",
        "bitstrings1 = qaoa_maxcut(n_layers=1)[1]\n",
        "bitstrings2 = qaoa_maxcut(n_layers=2)[1]"
      ],
      "execution_count": 13,
      "outputs": [
        {
          "output_type": "stream",
          "text": [
            "\n",
            "p=1\n",
            "Objective after step     5:  2.7901154\n",
            "Objective after step    10:  2.9983759\n",
            "Objective after step    15:  2.9999887\n",
            "Objective after step    20:  2.9999999\n",
            "Objective after step    25:  3.0000000\n",
            "Objective after step    30:  3.0000000\n",
            "Optimized (gamma, beta) vectors:\n",
            "[[-0.78539816]\n",
            " [-1.17809793]]\n",
            "Most frequently sampled bit string is: 0101\n",
            "\n",
            "p=2\n",
            "Objective after step     5:  2.8013039\n",
            "Objective after step    10:  3.1643629\n",
            "Objective after step    15:  3.8695487\n",
            "Objective after step    20:  3.9915934\n",
            "Objective after step    25:  3.9995599\n",
            "Objective after step    30:  3.9999782\n",
            "Optimized (gamma, beta) vectors:\n",
            "[[ 1.56814233 -0.78375079]\n",
            " [-1.17711192 -0.78547312]]\n",
            "Most frequently sampled bit string is: 0101\n"
          ],
          "name": "stdout"
        }
      ]
    },
    {
      "cell_type": "markdown",
      "metadata": {
        "id": "pQU4VzKpY9GJ",
        "colab_type": "text"
      },
      "source": [
        "In the case where we set ``n_layers=2``, we recover the optimal\n",
        "objective function $C=4$\n",
        "\n"
      ]
    },
    {
      "cell_type": "markdown",
      "metadata": {
        "id": "RxGZw-kwY9GK",
        "colab_type": "text"
      },
      "source": [
        "Plotting the results\n",
        "--------------------\n",
        "We can plot the distribution of measurements obtained from the optimized circuits. As\n",
        "expected for this graph, the partitions 0101 and 1010 are measured with the highest frequencies,\n",
        "and in the case where we set ``n_layers=2`` we obtain one of the optimal partitions with 100% certainty.\n",
        "\n"
      ]
    },
    {
      "cell_type": "code",
      "metadata": {
        "id": "hZzxlaEMY9GL",
        "colab_type": "code",
        "colab": {
          "base_uri": "https://localhost:8080/",
          "height": 297
        },
        "outputId": "40dc6615-1b30-42b3-9fb0-bba1349b2e7e"
      },
      "source": [
        "import matplotlib.pyplot as plt\n",
        "\n",
        "xticks = range(0, 16)\n",
        "xtick_labels = list(map(lambda x: format(x, \"04b\"), xticks))\n",
        "bins = np.arange(0, 17) - 0.5\n",
        "\n",
        "fig, (ax1, ax2) = plt.subplots(1, 2, figsize=(8, 4))\n",
        "plt.subplot(1, 2, 1)\n",
        "plt.title(\"n_layers=1\")\n",
        "plt.xlabel(\"bitstrings\")\n",
        "plt.ylabel(\"freq.\")\n",
        "plt.xticks(xticks, xtick_labels, rotation=\"vertical\")\n",
        "plt.hist(bitstrings1, bins=bins)\n",
        "plt.subplot(1, 2, 2)\n",
        "plt.title(\"n_layers=2\")\n",
        "plt.xlabel(\"bitstrings\")\n",
        "plt.ylabel(\"freq.\")\n",
        "plt.xticks(xticks, xtick_labels, rotation=\"vertical\")\n",
        "plt.hist(bitstrings2, bins=bins)\n",
        "plt.tight_layout()\n",
        "plt.show()"
      ],
      "execution_count": 14,
      "outputs": [
        {
          "output_type": "display_data",
          "data": {
            "image/png": "[encoded data removed]",
            "text/plain": [
              "<Figure size 576x288 with 2 Axes>"
            ]
          },
          "metadata": {
            "tags": [],
            "needs_background": "light"
          }
        }
      ]
    },
    {
      "cell_type": "code",
      "metadata": {
        "id": "E8I9wG-AY9GO",
        "colab_type": "code",
        "colab": {}
      },
      "source": [
        ""
      ],
      "execution_count": 0,
      "outputs": []
    },
    {
      "cell_type": "code",
      "metadata": {
        "id": "GQ8erooZY9GS",
        "colab_type": "code",
        "colab": {}
      },
      "source": [
        ""
      ],
      "execution_count": 0,
      "outputs": []
    },
    {
      "cell_type": "code",
      "metadata": {
        "id": "lTe7X1G_Y9GV",
        "colab_type": "code",
        "colab": {}
      },
      "source": [
        ""
      ],
      "execution_count": 0,
      "outputs": []
    }
  ]
}