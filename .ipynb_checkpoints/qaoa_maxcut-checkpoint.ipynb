{
 "cells": [
  {
   "cell_type": "code",
   "execution_count": 1,
   "metadata": {},
   "outputs": [],
   "source": [
    "# This cell is added by sphinx-gallery\n",
    "# It can be customized to whatever you like\n",
    "pip install pennylane "
   ]
  },
  {
   "cell_type": "code",
   "execution_count": null,
   "metadata": {},
   "outputs": [],
   "source": [
    "pip install pennylane-cirq==0.8.0"
   ]
  },
  {
   "cell_type": "code",
   "execution_count": null,
   "metadata": {},
   "outputs": [],
   "source": [
    "%matplotlib inline"
   ]
  },
  {
   "cell_type": "markdown",
   "metadata": {},
   "source": [
    "\n",
    "\n",
    "QAOA for MaxCut\n",
    "===============\n"
   ]
  },
  {
   "cell_type": "markdown",
   "metadata": {},
   "source": [
    "In this tutorial we implement the quantum approximate optimization algorithm (QAOA) for the MaxCut\n",
    "problem as proposed by `Farhi, Goldstone, and Gutmann (2014) <https://arxiv.org/abs/1411.4028>`__. First, we\n",
    "give an overview of the MaxCut problem using a simple example, a graph with 4 vertices and 4 edges. We then\n",
    "show how to find the maximum cut by running the QAOA algorithm using PennyLane.\n",
    "\n",
    "Background\n",
    "----------\n",
    "\n",
    "The MaxCut problem\n",
    "~~~~~~~~~~~~~~~~~~\n",
    "The aim of MaxCut is to maximize the number of edges (yellow lines) in a graph that are \"cut\" by\n",
    "a given partition of the vertices (blue circles) into two sets (see figure below).\n",
    "\n",
    ".. figure:: ../demonstrations/qaoa_maxcut/qaoa_maxcut_partition.png\n",
    "   :align: center\n",
    "   :scale: 65%\n",
    "   :alt: qaoa_operators\n",
    "\n",
    "|\n",
    "\n",
    "Consider a graph with $m$ edges and $n$ vertices. We seek the partition\n",
    "$z$ of the vertices into two sets\n",
    "$A$ and $B$ which maximizes\n",
    "\n",
    "\\begin{align}C(z) = \\sum_{\\alpha=1}^{m}C_\\alpha(z),\\end{align}\n",
    "\n",
    "where $C$ counts the number of edges cut. $C_\\alpha(z)=1$ if $z$ places one vertex from the\n",
    "$\\alpha^\\text{th}$ edge in set $A$ and the other in set $B$, and $C_\\alpha(z)=0$ otherwise.\n",
    "Finding a cut which yields the maximum possible value of $C$ is an NP-complete problem, so our best hope for a\n",
    "polynomial-time algorithm lies in an approximate optimization.\n",
    "In the case of MaxCut, this means finding a partition $z$ which\n",
    "yields a value for $C(z)$ that is close to the maximum possible value.\n",
    "\n",
    "We can represent the assignment of vertices to set $A$ or $B$ using a bitstring,\n",
    "$z=z_1...z_n$ where $z_i=0$ if the $i^\\text{th}$ vertex is in $A$ and\n",
    "$z_i = 1$ if it is in $B$. For instance,\n",
    "in the situation depicted in the figure above the bitstring representation is $z=0101\\text{,}$\n",
    "indicating that the $0^{\\text{th}}$ and $2^{\\text{nd}}$ vertices are in $A$\n",
    "while the $1^{\\text{st}}$ and $3^{\\text{rd}}$ are in\n",
    "$B$. This assignment yields a value for the objective function (the number of yellow lines cut)\n",
    "$C=4$, which turns out to be the maximum cut. In the following sections,\n",
    "we will represent partitions using computational basis states and use PennyLane to\n",
    "rediscover this maximum cut.\n",
    "\n",
    "<div class=\"alert alert-info\"><h4>Note</h4><p>In the graph above, $z=1010$ could equally well serve as the maximum cut.</p></div>\n",
    "\n",
    "A circuit for QAOA\n",
    "~~~~~~~~~~~~~~~~~~~~\n",
    "This section describes implementing a circuit for QAOA using basic unitary gates to find approximate\n",
    "solutions to the MaxCut problem.\n",
    "Firstly, denoting the partitions using computational basis states $|z\\rangle$, we can represent the terms in the\n",
    "objective function as operators acting on these states\n",
    "\n",
    "\\begin{align}C_\\alpha = \\frac{1}{2}\\left(1-\\sigma_{z}^j\\sigma_{z}^k\\right),\\end{align}\n",
    "\n",
    "where the $\\alpha\\text{th}$ edge is between vertices $(j,k)$.\n",
    "$C_\\alpha$ has eigenvalue 1 if and only if the $j\\text{th}$ and $k\\text{th}$\n",
    "qubits have different z-axis measurement values, representing separate partitions.\n",
    "The objective function $C$ can be considered a diagonal operator with integer eigenvalues.\n",
    "\n",
    "QAOA starts with a uniform superposition over the $n$ bitstring basis states,\n",
    "\n",
    "\\begin{align}|+_{n}\\rangle = \\frac{1}{\\sqrt{2^n}}\\sum_{z\\in \\{0,1\\}^n} |z\\rangle.\\end{align}\n",
    "\n",
    "\n",
    "We aim to explore the space of bitstring states for a superposition which is likely to yield a\n",
    "large value for the $C$ operator upon performing a measurement in the computational basis.\n",
    "Using the $2p$ angle parameters\n",
    "$\\boldsymbol{\\gamma} = \\gamma_1\\gamma_2...\\gamma_p$, $\\boldsymbol{\\beta} = \\beta_1\\beta_2...\\beta_p$\n",
    "we perform a sequence of operations on our initial state:\n",
    "\n",
    "\\begin{align}|\\boldsymbol{\\gamma},\\boldsymbol{\\beta}\\rangle = U_{B_p}U_{C_p}U_{B_{p-1}}U_{C_{p-1}}...U_{B_1}U_{C_1}|+_n\\rangle\\end{align}\n",
    "\n",
    "where the operators have the explicit forms\n",
    "\n",
    "\\begin{align}U_{B_l} &= e^{-i\\beta_lB} = \\prod_{j=1}^n e^{-i\\beta_l\\sigma_x^j}, \\\\\n",
    "  U_{C_l} &= e^{-i\\gamma_lC} = \\prod_{\\text{edge (j,k)}} e^{-i\\gamma_l(1-\\sigma_z^j\\sigma_z^k)/2}.\\end{align}\n",
    "\n",
    "In other words, we make $p$ layers of parametrized $U_bU_C$ gates.\n",
    "These can be implemented on a quantum circuit using the gates depicted below, up to an irrelevant constant\n",
    "that gets absorbed into the parameters.\n",
    "\n",
    ".. figure:: ../demonstrations/qaoa_maxcut/qaoa_operators.png\n",
    "   :align: center\n",
    "   :scale: 100%\n",
    "   :alt: qaoa_operators\n",
    "\n",
    "|\n",
    "\n",
    "Let $\\langle \\boldsymbol{\\gamma},\n",
    "\\boldsymbol{\\beta} | C | \\boldsymbol{\\gamma},\\boldsymbol{\\beta} \\rangle$ be the expectation of the objective operator.\n",
    "In the next section, we will use PennyLane to perform classical optimization\n",
    "over the circuit parameters $(\\boldsymbol{\\gamma}, \\boldsymbol{\\beta})$.\n",
    "This will specify a state $|\\boldsymbol{\\gamma},\\boldsymbol{\\beta}\\rangle$ which is\n",
    "likely to yield an approximately optimal partition $|z\\rangle$ upon performing a measurement in the\n",
    "computational basis.\n",
    "In the case of the graph shown above, we want to measure either 0101 or 1010 from our state since these correspond to\n",
    "the optimal partitions.\n",
    "\n",
    ".. figure:: ../demonstrations/qaoa_maxcut/qaoa_optimal_state.png\n",
    "  :align: center\n",
    "  :scale: 60%\n",
    "  :alt: optimal_state\n",
    "\n",
    "|\n",
    "\n",
    "Qualitatively, QAOA tries to evolve the initial state into the plane of the\n",
    "$|0101\\rangle$, $|1010\\rangle$ basis states (see figure above).\n",
    "\n",
    "\n",
    "Implementing QAOA in PennyLane\n",
    "------------------------------\n",
    "\n",
    "Imports and setup\n",
    "~~~~~~~~~~~~~~~~~\n",
    "\n",
    "To get started, we import PennyLane along with the PennyLane-provided\n",
    "version of NumPy.\n",
    "\n"
   ]
  },
  {
   "cell_type": "code",
   "execution_count": 2,
   "metadata": {},
   "outputs": [],
   "source": [
    "import pennylane as qml\n",
    "from pennylane import numpy as np"
   ]
  },
  {
   "cell_type": "markdown",
   "metadata": {},
   "source": [
    "Operators\n",
    "~~~~~~~~~\n",
    "We specify the number of qubits (vertices) with ``n_wires`` and\n",
    "compose the unitary operators using the definitions\n",
    "above. $U_B$ operators act on individual wires, while $U_C$\n",
    "operators act on wires whose corresponding vertices are joined by an edge in\n",
    "the graph. We also define the graph using\n",
    "the list ``graph``, which contains the tuples of vertices defining\n",
    "each edge in the graph.\n",
    "\n"
   ]
  },
  {
   "cell_type": "code",
   "execution_count": 3,
   "metadata": {},
   "outputs": [],
   "source": [
    "n_wires = 4\n",
    "graph = [(0, 1), (0, 3), (1, 2), (2, 3)]\n",
    "\n",
    "# unitary operator U_B with parameter beta\n",
    "def U_B(beta):\n",
    "    for wire in range(n_wires):\n",
    "        qml.RX(2 * beta, wires=wire)\n",
    "\n",
    "\n",
    "# unitary operator U_C with parameter gamma\n",
    "def U_C(gamma):\n",
    "    for edge in graph:\n",
    "        wire1 = edge[0]\n",
    "        wire2 = edge[1]\n",
    "        qml.CNOT(wires=[wire1, wire2])\n",
    "        qml.RZ(gamma, wires=wire2)\n",
    "        qml.CNOT(wires=[wire1, wire2])"
   ]
  },
  {
   "cell_type": "markdown",
   "metadata": {},
   "source": [
    "We will need a way to sample\n",
    "a measurement of multiple qubits in the computational basis, so we define\n",
    "a Hermitian operator to do this. The eigenvalues of the operator are\n",
    "the qubit measurement values in integer form.\n",
    "\n"
   ]
  },
  {
   "cell_type": "code",
   "execution_count": 4,
   "metadata": {},
   "outputs": [],
   "source": [
    "def comp_basis_measurement(wires):\n",
    "    n_wires = len(wires)\n",
    "    return qml.Hermitian(np.diag(range(2 ** n_wires)), wires=wires)"
   ]
  },
  {
   "cell_type": "markdown",
   "metadata": {},
   "source": [
    "Circuit\n",
    "~~~~~~~\n",
    "Next, we create a quantum device with 4 qubits.\n",
    "\n"
   ]
  },
  {
   "cell_type": "code",
   "execution_count": 5,
   "metadata": {},
   "outputs": [],
   "source": [
    "dev = qml.device(\"default.qubit\", wires=n_wires, analytic=True, shots=1)"
   ]
  },
  {
   "cell_type": "markdown",
   "metadata": {},
   "source": [
    "We also require a quantum node which will apply the operators according to the\n",
    "angle parameters, and return the expectation value of the observable\n",
    "$\\sigma_z^{j}\\sigma_z^{k}$ to be used in each term of the objective function later on. The\n",
    "argument ``edge`` specifies the chosen edge term in the objective function, $(j,k)$.\n",
    "Once optimized, the same quantum node can be used for sampling an approximately optimal bitstring\n",
    "if executed with the ``edge`` keyword set to ``None``. Additionally, we specify the number of layers\n",
    "(repeated applications of $U_BU_C$) using the keyword ``n_layers``.\n",
    "\n"
   ]
  },
  {
   "cell_type": "code",
   "execution_count": 6,
   "metadata": {},
   "outputs": [],
   "source": [
    "pauli_z = [[1, 0], [0, -1]]\n",
    "pauli_z_2 = np.kron(pauli_z, pauli_z)\n",
    "\n",
    "\n",
    "@qml.qnode(dev)\n",
    "def circuit(gammas, betas, edge=None, n_layers=1):\n",
    "    # apply Hadamards to get the n qubit |+> state\n",
    "    for wire in range(n_wires):\n",
    "        qml.Hadamard(wires=wire)\n",
    "    # p instances of unitary operators\n",
    "    for i in range(n_layers):\n",
    "        U_C(gammas[i])\n",
    "        U_B(betas[i])\n",
    "    if edge is None:\n",
    "        # measurement phase\n",
    "        return qml.sample(comp_basis_measurement(range(n_wires)))\n",
    "    # during the optimization phase we are evaluating a term\n",
    "    # in the objective using expval\n",
    "    return qml.expval(qml.Hermitian(pauli_z_2, wires=edge))"
   ]
  },
  {
   "cell_type": "markdown",
   "metadata": {},
   "source": [
    "Optimization\n",
    "~~~~~~~~~~~~\n",
    "Finally, we optimize the objective over the\n",
    "angle parameters $\\boldsymbol{\\gamma}$ (``params[0]``) and $\\boldsymbol{\\beta}$\n",
    "(``params[1]``)\n",
    "and then sample the optimized\n",
    "circuit multiple times to yield a distribution of bitstrings. One of the optimal partitions\n",
    "($z=0101$ or $z=1010$) should be the most frequently sampled bitstring.\n",
    "We perform a maximization of $C$ by\n",
    "minimizing $-C$, following the convention that optimizations are cast as minimizations\n",
    "in PennyLane.\n",
    "\n"
   ]
  },
  {
   "cell_type": "code",
   "execution_count": 7,
   "metadata": {},
   "outputs": [
    {
     "name": "stdout",
     "output_type": "stream",
     "text": [
      "\n",
      "p=1\n",
      "Objective after step     5:  2.7892188\n",
      "Objective after step    10:  2.9983846\n",
      "Objective after step    15:  2.9999889\n",
      "Objective after step    20:  2.9999999\n",
      "Objective after step    25:  3.0000000\n",
      "Objective after step    30:  3.0000000\n",
      "Optimized (gamma, beta) vectors:\n",
      "[[-0.78539816]\n",
      " [-1.17809791]]\n",
      "Most frequently sampled bit string is: 0101\n",
      "\n",
      "p=2\n",
      "Objective after step     5:  3.1894957\n",
      "Objective after step    10:  3.4102945\n",
      "Objective after step    15:  3.8906537\n",
      "Objective after step    20:  3.9917428\n",
      "Objective after step    25:  3.9995072\n",
      "Objective after step    30:  3.9999719\n",
      "Optimized (gamma, beta) vectors:\n",
      "[[ 1.56828973 -0.78386851]\n",
      " [-1.17689424 -0.78548565]]\n",
      "Most frequently sampled bit string is: 1010\n"
     ]
    }
   ],
   "source": [
    "def qaoa_maxcut(n_layers=1):\n",
    "    print(\"\\np={:d}\".format(n_layers))\n",
    "\n",
    "    # initialize the parameters near zero\n",
    "    init_params = 0.01 * np.random.rand(2, n_layers)\n",
    "\n",
    "    # minimize the negative of the objective function\n",
    "    def objective(params):\n",
    "        gammas = params[0]\n",
    "        betas = params[1]\n",
    "        neg_obj = 0\n",
    "        for edge in graph:\n",
    "            # objective for the MaxCut problem\n",
    "            neg_obj -= 0.5 * (1 - circuit(gammas, betas, edge=edge, n_layers=n_layers))\n",
    "        return neg_obj\n",
    "\n",
    "    # initialize optimizer: Adagrad works well empirically\n",
    "    opt = qml.AdagradOptimizer(stepsize=0.5)\n",
    "\n",
    "    # optimize parameters in objective\n",
    "    params = init_params\n",
    "    steps = 30\n",
    "    for i in range(steps):\n",
    "        params = opt.step(objective, params)\n",
    "        if (i + 1) % 5 == 0:\n",
    "            print(\"Objective after step {:5d}: {: .7f}\".format(i + 1, -objective(params)))\n",
    "\n",
    "    # sample measured bitstrings 100 times\n",
    "    bit_strings = []\n",
    "    n_samples = 100\n",
    "    for i in range(0, n_samples):\n",
    "        bit_strings.append(int(circuit(params[0], params[1], edge=None, n_layers=n_layers)))\n",
    "\n",
    "    # print optimal parameters and most frequently sampled bitstring\n",
    "    counts = np.bincount(np.array(bit_strings))\n",
    "    most_freq_bit_string = np.argmax(counts)\n",
    "    print(\"Optimized (gamma, beta) vectors:\\n{}\".format(params))\n",
    "    print(\"Most frequently sampled bit string is: {:04b}\".format(most_freq_bit_string))\n",
    "\n",
    "    return -objective(params), bit_strings\n",
    "\n",
    "\n",
    "# perform qaoa on our graph with p=1,2 and\n",
    "# keep the bitstring sample lists\n",
    "bitstrings1 = qaoa_maxcut(n_layers=1)[1]\n",
    "bitstrings2 = qaoa_maxcut(n_layers=2)[1]"
   ]
  },
  {
   "cell_type": "markdown",
   "metadata": {},
   "source": [
    "In the case where we set ``n_layers=2``, we recover the optimal\n",
    "objective function $C=4$\n",
    "\n"
   ]
  },
  {
   "cell_type": "markdown",
   "metadata": {},
   "source": [
    "Plotting the results\n",
    "--------------------\n",
    "We can plot the distribution of measurements obtained from the optimized circuits. As\n",
    "expected for this graph, the partitions 0101 and 1010 are measured with the highest frequencies,\n",
    "and in the case where we set ``n_layers=2`` we obtain one of the optimal partitions with 100% certainty.\n",
    "\n"
   ]
  },
  {
   "cell_type": "code",
   "execution_count": 8,
   "metadata": {},
   "outputs": [
    {
     "data": {
      "image/png": "[encoded data removed]",
      "text/plain": [
       "<Figure size 576x288 with 2 Axes>"
      ]
     },
     "metadata": {
      "needs_background": "light"
     },
     "output_type": "display_data"
    }
   ],
   "source": [
    "import matplotlib.pyplot as plt\n",
    "\n",
    "xticks = range(0, 16)\n",
    "xtick_labels = list(map(lambda x: format(x, \"04b\"), xticks))\n",
    "bins = np.arange(0, 17) - 0.5\n",
    "\n",
    "fig, (ax1, ax2) = plt.subplots(1, 2, figsize=(8, 4))\n",
    "plt.subplot(1, 2, 1)\n",
    "plt.title(\"n_layers=1\")\n",
    "plt.xlabel(\"bitstrings\")\n",
    "plt.ylabel(\"freq.\")\n",
    "plt.xticks(xticks, xtick_labels, rotation=\"vertical\")\n",
    "plt.hist(bitstrings1, bins=bins)\n",
    "plt.subplot(1, 2, 2)\n",
    "plt.title(\"n_layers=2\")\n",
    "plt.xlabel(\"bitstrings\")\n",
    "plt.ylabel(\"freq.\")\n",
    "plt.xticks(xticks, xtick_labels, rotation=\"vertical\")\n",
    "plt.hist(bitstrings2, bins=bins)\n",
    "plt.tight_layout()\n",
    "plt.show()"
   ]
  },
  {
   "cell_type": "code",
   "execution_count": null,
   "metadata": {},
   "outputs": [],
   "source": []
  },
  {
   "cell_type": "code",
   "execution_count": null,
   "metadata": {},
   "outputs": [],
   "source": []
  },
  {
   "cell_type": "code",
   "execution_count": null,
   "metadata": {},
   "outputs": [],
   "source": []
  }
 ],
 "metadata": {
  "kernelspec": {
   "display_name": "Python 3",
   "language": "python",
   "name": "python3"
  },
  "language_info": {
   "codemirror_mode": {
    "name": "ipython",
    "version": 3
   },
   "file_extension": ".py",
   "mimetype": "text/x-python",
   "name": "python",
   "nbconvert_exporter": "python",
   "pygments_lexer": "ipython3",
   "version": "3.6.9"
  }
 },
 "nbformat": 4,
 "nbformat_minor": 1
}
